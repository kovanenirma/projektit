{
  "nbformat": 4,
  "nbformat_minor": 0,
  "metadata": {
    "colab": {
      "name": "IHME_koko_aineisto_HyTe_7.ipynb",
      "provenance": [],
      "collapsed_sections": [],
      "include_colab_link": true
    },
    "kernelspec": {
      "name": "python3",
      "display_name": "Python 3"
    }
  },
  "cells": [
    {
      "cell_type": "markdown",
      "metadata": {
        "id": "view-in-github",
        "colab_type": "text"
      },
      "source": [
        "<a href=\"https://colab.research.google.com/github/kovanenirma/projektit/blob/master/HyTe2020_koko_aineisto.ipynb\" target=\"_parent\"><img src=\"https://colab.research.google.com/assets/colab-badge.svg\" alt=\"Open In Colab\"/></a>"
      ]
    },
    {
      "cell_type": "markdown",
      "metadata": {
        "id": "QXsW5cV5tFFL",
        "colab_type": "text"
      },
      "source": [
        "Ladataan tarvittavat kirjastot:\n",
        "\n",
        "> pandas; matematiikkakirjasto - https://pandas.pydata.org/\n",
        "\n",
        "> numpy; toinen matematiikkakirjasto - https://numpy.org/doc/\n",
        "\n",
        "> matplotlib; visualisointikirjasto - https://matplotlib.org/\n",
        "\n",
        "> seaborn; visualisointikirjasto - https://seaborn.pydata.org/\n"
      ]
    },
    {
      "cell_type": "code",
      "metadata": {
        "id": "woshQh0irZM3",
        "colab_type": "code",
        "colab": {}
      },
      "source": [
        "import pandas as pd\n",
        "import numpy as np\n",
        "import matplotlib.pyplot as plt\n",
        "import seaborn as sns"
      ],
      "execution_count": 75,
      "outputs": []
    },
    {
      "cell_type": "code",
      "metadata": {
        "id": "F225SIjlp2l3",
        "colab_type": "code",
        "colab": {}
      },
      "source": [
        "dat = pd.read_csv(\"https://raw.githubusercontent.com/kovanenirma/HyTe_IHME/master/Koonti%20hyvinvointikysely21072020.csv\", encoding='latin-1')\n",
        "\n",
        "dat[0:10] #tulostetaan otsikko ja ensimmäinen rivi tarkistuksen vuoksi\n"
      ],
      "execution_count": null,
      "outputs": []
    },
    {
      "cell_type": "code",
      "metadata": {
        "id": "d70PvkzeI6l1",
        "colab_type": "code",
        "colab": {}
      },
      "source": [
        "dat2 = dat.rename(columns={'Minulle jaa riittavasti aikaa harrastuksille tyon tai koulun ohella': 'T1', \n",
        "                      'Herasin aamulla virkeana': 'F1',\n",
        "                      'Pidan paivittain yhteytta minulle tarkeisiin ihmisiin': 'T2',\n",
        "                      'Liikuin eilen tavoitteiden mukaisesti': 'F2',\n",
        "                      'Naen lahes paivittain ihmisia kasvokkain': 'T3',\n",
        "                      'Ruoka tuo minulle mielihyvaa': 'F3',\n",
        "                      'Saannollinen liikunta ja terveellinen ruoka ovat minulle tarkeita': 'T4',\n",
        "                      'Soin tanaan kunnon aamupalan': 'F4',\n",
        "                      'Nukun riittavasti oisin': 'T5',\n",
        "                      'Kavin eilen ulkoilemassa ja liikuin riittavasti': 'F5',\n",
        "                      'Pidan itsestani': 'T6',\n",
        "                      'Menin eilen nukkumaan sopivaan aikaan': 'F6',\n",
        "                      'Minulle tulee 10 000 askelta useammin kuin 5 paivana viikossa': 'T7',\n",
        "                      'Sain eilen tarpeeksi fyysista laheisyytta': 'F7',\n",
        "                      'Tykkaan omasta ulkonaostani': 'T8',\n",
        "                      'Olen mielestani nahnyt ystaviani tai sukulaisia kuluneen kuukauden aikana kasvotusten tarpeeksi': 'F8',\n",
        "                      'Rentoudun usein esim hyvan kirjan kasitoiden television elokuvien tai musiikin parissa': 'T9',\n",
        "                      'Kaverini on soittanut minulle kuluneen viikon aikana': 'F9',\n",
        "                      'Kayn ulkona paivittain': 'T10',\n",
        "                      'Soin eilen hyvaa ruokaa': 'F10',\n",
        "                      'Arjessani on selkea rytmi tyon tai opiskelun ruokailun unen ja liikunnan suhteen': 'T11',\n",
        "                      'Tein eilen jotain mieluista': 'F11',\n",
        "                      'Minulla on riittavasti aikaa hemmotella itsea': 'T12',\n",
        "                      'Olen ollut kavereihin yhteydessa tarpeeksi usein kuluneen viikon aikana': 'F12'})\n",
        "\n",
        "dat2[0:6] #tulostetaan otsikko ja ensimmäinen rivi tarkistuksen vuoksi\n"
      ],
      "execution_count": null,
      "outputs": []
    },
    {
      "cell_type": "markdown",
      "metadata": {
        "id": "OAXnzpz2hJeW",
        "colab_type": "text"
      },
      "source": [
        "**Teemaan liittyvä data, pylväsdiagrammi (T1)**"
      ]
    },
    {
      "cell_type": "code",
      "metadata": {
        "id": "bNMC9ovnYUpB",
        "colab_type": "code",
        "colab": {}
      },
      "source": [
        "teema = dat2[['T1', 'T2', 'T3', 'T4', 'T5', 'T6', 'T7', 'T8', 'T9', 'T10', 'T11', 'T12']]\n",
        "teema[0:8]"
      ],
      "execution_count": null,
      "outputs": []
    },
    {
      "cell_type": "code",
      "metadata": {
        "id": "6uQif-wAY6mY",
        "colab_type": "code",
        "colab": {}
      },
      "source": [
        "sns.set(style=\"darkgrid\", rc={'figure.figsize':(16,8)})\n",
        "\n",
        "ax = sns.barplot(x=dat.Kayttajanimi, y=teema.T1, data=dat2)"
      ],
      "execution_count": null,
      "outputs": []
    },
    {
      "cell_type": "markdown",
      "metadata": {
        "id": "YRW8RFZsiWFL",
        "colab_type": "text"
      },
      "source": [
        "**Fiilikseen liittyvä data, kuvaaja (F9)**"
      ]
    },
    {
      "cell_type": "code",
      "metadata": {
        "id": "jLjlTUHKaaX_",
        "colab_type": "code",
        "colab": {}
      },
      "source": [
        "fiilis = dat2[['F1', 'F2', 'F3', 'F4', 'F5', 'F6', 'F7', 'F8', 'F9', 'F10', 'F11', 'F12']]\n",
        "fiilis[0:8]\n"
      ],
      "execution_count": null,
      "outputs": []
    },
    {
      "cell_type": "code",
      "metadata": {
        "id": "7ECQu8lza4Gw",
        "colab_type": "code",
        "colab": {}
      },
      "source": [
        "sns.set(style=\"darkgrid\", rc={'figure.figsize':(16,8)})\n",
        "\n",
        "ax = sns.barplot(x=dat.Kayttajanimi, y=fiilis.F9, data=dat2)"
      ],
      "execution_count": null,
      "outputs": []
    },
    {
      "cell_type": "markdown",
      "metadata": {
        "id": "PBj43ZntlaLo",
        "colab_type": "text"
      },
      "source": [
        "**Viivadiagrammi: teema, 1. Kayttajanimi**"
      ]
    },
    {
      "cell_type": "code",
      "metadata": {
        "id": "ulyEPgS6qWFo",
        "colab_type": "code",
        "colab": {}
      },
      "source": [
        "dat3 = dat2.T\n",
        "dat3\n",
        "\n",
        "X = list(range(0, 12))\n",
        "Y = [dat3.iat[1,0], dat3.iat[3,0], dat3.iat[5,0], dat3.iat[7,0], dat3.iat[9,0], dat3.iat[11,0], dat3.iat[13,0], dat3.iat[15,0], dat3.iat[17,0], dat3.iat[19,0], dat3.iat[21,0], dat3.iat[23,0]]\n",
        "\n",
        "plt.plot(X,Y)\n"
      ],
      "execution_count": null,
      "outputs": []
    },
    {
      "cell_type": "code",
      "metadata": {
        "id": "ZGOtuKlZKJXH",
        "colab_type": "code",
        "colab": {}
      },
      "source": [
        "sns.set(style=\"whitegrid\", rc={'figure.figsize':(16,8)})\n",
        "\n",
        "ax = sns.barplot(x=dat.Kayttajanimi, y=dat2.T1, data=dat2)"
      ],
      "execution_count": null,
      "outputs": []
    },
    {
      "cell_type": "markdown",
      "metadata": {
        "id": "R0bihiFPDrf1",
        "colab_type": "text"
      },
      "source": [
        "**Korrelaatio**"
      ]
    },
    {
      "cell_type": "code",
      "metadata": {
        "id": "LxnlfA-fDoR9",
        "colab_type": "code",
        "colab": {}
      },
      "source": [
        "dat = dat2[['T1', 'T2', 'T3', 'T4', 'T5', 'T6', 'T7', 'T8', 'T9', 'T10', 'T11', 'T12', 'F1', 'F2', 'F3', 'F4', 'F5', 'F6', 'F7', 'F8', 'F9','F10', 'F11', 'F12']]\n",
        "\n",
        "corr = dat.corr()\n",
        "mask = np.triu(np.ones_like(corr, dtype=np.bool))\n",
        "f, ax = plt.subplots(figsize=(11, 9))\n",
        "cmap = sns.diverging_palette(220, 10, as_cmap=True)\n",
        "sns.heatmap(corr, mask=mask, cmap=cmap, vmax=.3, center=0, square=True, linewidths=.5, cbar_kws={\"shrink\": .5})"
      ],
      "execution_count": null,
      "outputs": []
    },
    {
      "cell_type": "markdown",
      "metadata": {
        "id": "rkxVLfb50Z9v",
        "colab_type": "text"
      },
      "source": [
        "**Teemakysymykset**\n",
        "\n",
        "T1: Minulle jaa riittavasti aikaa harrastuksille tyon tai koulun ohella\n",
        "\n",
        "T2: Pidan paivittain yhteytta minulle tarkeisiin ihmisiin\n",
        "\n",
        "T3: Naen lahes paivittain ihmisia kasvokkain\n",
        "\n",
        "T4: Saannollinen liikunta ja terveellinen ruoka ovat minulle tarkeita\n",
        "\n",
        "T5: Nukun riittavasti oisin\n",
        "\n",
        "T6: Pidan itsestani\n",
        "\n",
        "T7: Minulle tulee 10 000 askelta useammin kuin 5 paivana viikossa\n",
        "\n",
        "T8: Tykkaan omasta ulkonaostani\n",
        "\n",
        "T9: Rentoudun usein esim hyvan kirjan kasitoiden television elokuvien tai musiikin parissa\n",
        "\n",
        "T10: Kayn ulkona paivittain\n",
        "\n",
        "T11: Arjessani on selkea rytmi tyon tai opiskelun ruokailun unen ja liikunnan suhteen\n",
        "\n",
        "T12: Minulla on riittavasti aikaa hemmotella itsea\n",
        "\n",
        "**Fiiliskysymykset**\n",
        "\n",
        "F1: Herasin aamulla virkeana\n",
        "\n",
        "F2: Liikuin eilen tavoitteiden mukaisesti\n",
        "\n",
        "F3: Ruoka tuo minulle mielihyvaa\n",
        "\n",
        "F4: Soin tanaan kunnon aamupalan \n",
        "\n",
        "F5: Kavin eilen ulkoilemassa ja liikuin riittavasti\n",
        "\n",
        "F6: Menin eilen nukkumaan sopivaan aikaan\n",
        "\n",
        "F7: Sain eilen tarpeeksi fyysista laheisyytta\n",
        "\n",
        "F8: Olen mielestani nahnyt ystaviani tai sukulaisia kuluneen kuukauden aikana kasvotusten tarpeeksi\n",
        "\n",
        "F9: Kaverini on soittanut minulle kuluneen viikon aikana\n",
        "\n",
        "F10: Soin eilen hyvaa ruokaa\n",
        "\n",
        "F11: Tein eilen jotain mieluista\n",
        "\n",
        "F12: Olen ollut kavereihin yhteydessa tarpeeksi usein kuluneen viikon aikana\n"
      ]
    },
    {
      "cell_type": "markdown",
      "metadata": {
        "id": "7t7sqy1_mmCp",
        "colab_type": "text"
      },
      "source": [
        "**Korrelaatio; esim. T1 vs. kaikki fiilikset**"
      ]
    },
    {
      "cell_type": "code",
      "metadata": {
        "id": "Yc69Aq8IRxNf",
        "colab_type": "code",
        "colab": {}
      },
      "source": [
        "dat = dat2[['T4', 'F1', 'F2', 'F3', 'F4', 'F5', 'F6', 'F7', 'F8', 'F9','F10', 'F11', 'F12']]\n",
        "\n",
        "corr = dat.corr()\n",
        "mask = np.triu(np.ones_like(corr, dtype=np.bool))\n",
        "f, ax = plt.subplots(figsize=(11, 9))\n",
        "cmap = sns.diverging_palette(220, 10, as_cmap=True)\n",
        "sns.heatmap(corr, mask=mask, cmap=cmap, vmax=.3, center=0, square=True, linewidths=.5, cbar_kws={\"shrink\": .5})"
      ],
      "execution_count": null,
      "outputs": []
    },
    {
      "cell_type": "code",
      "metadata": {
        "id": "e8bLb06txgjF",
        "colab_type": "code",
        "colab": {}
      },
      "source": [
        "sns.set(style=\"whitegrid\", rc={'figure.figsize':(16,8)})\n",
        "ax1 = sns.distplot(dat2.T4)\n",
        "ax2 = sns.distplot(dat2.F6)\n",
        "plt.xlabel(\"T4:Saannollinen liikunta ja terveellinen ruoka ovat minulle tarkeita & F7:Sain eilen tarpeeksi fyysista laheisyytta \")\n",
        "plt.show()\n"
      ],
      "execution_count": null,
      "outputs": []
    },
    {
      "cell_type": "code",
      "metadata": {
        "id": "0zBElqg_0wxo",
        "colab_type": "code",
        "colab": {}
      },
      "source": [
        "sns.set(style=\"whitegrid\", rc={'figure.figsize':(12,12)})\n",
        "\n",
        "ax = sns.jointplot(x=dat2.T1, y=dat2.F9);"
      ],
      "execution_count": null,
      "outputs": []
    },
    {
      "cell_type": "markdown",
      "metadata": {
        "id": "xoCqIJRKwhEX",
        "colab_type": "text"
      },
      "source": [
        "**Korrelaatio, teemakysymykset**"
      ]
    },
    {
      "cell_type": "code",
      "metadata": {
        "id": "kdrRBaYgcOsF",
        "colab_type": "code",
        "colab": {}
      },
      "source": [
        "corr = teema.corr()\n",
        "mask = np.triu(np.ones_like(corr, dtype=np.bool))\n",
        "f, ax = plt.subplots(figsize=(11, 9))\n",
        "cmap = sns.diverging_palette(220, 10, as_cmap=True)\n",
        "sns.heatmap(corr, mask=mask, cmap=cmap, vmax=.3, center=0, square=True, linewidths=.5, cbar_kws={\"shrink\": .5})"
      ],
      "execution_count": null,
      "outputs": []
    },
    {
      "cell_type": "code",
      "metadata": {
        "id": "CRrLqtsWxbna",
        "colab_type": "code",
        "colab": {}
      },
      "source": [
        "sns.set(style=\"whitegrid\", rc={'figure.figsize':(16,8)})\n",
        "ax1 = sns.distplot(teema.T5)\n",
        "ax2 = sns.distplot(teema.T9)\n",
        "plt.xlabel(\"T5: Nukun riittavasti oisin & T9: Rentoudun usein esim hyvan kirjan kasitoiden television elokuvien tai musiikin parissa\")\n",
        "plt.show()"
      ],
      "execution_count": null,
      "outputs": []
    },
    {
      "cell_type": "markdown",
      "metadata": {
        "id": "o3zGniyWwsb0",
        "colab_type": "text"
      },
      "source": [
        "**Korrelaatio, fiiliskysymykset**"
      ]
    },
    {
      "cell_type": "code",
      "metadata": {
        "id": "0SF-sePBwSwP",
        "colab_type": "code",
        "colab": {}
      },
      "source": [
        "corr = fiilis.corr()\n",
        "mask = np.triu(np.ones_like(corr, dtype=np.bool))\n",
        "f, ax = plt.subplots(figsize=(11, 9))\n",
        "cmap = sns.diverging_palette(220, 10, as_cmap=True)\n",
        "sns.heatmap(corr, mask=mask, cmap=cmap, vmax=.3, center=0, square=True, linewidths=.5, cbar_kws={\"shrink\": .5})"
      ],
      "execution_count": null,
      "outputs": []
    },
    {
      "cell_type": "code",
      "metadata": {
        "id": "yviiLDgmyyQZ",
        "colab_type": "code",
        "colab": {}
      },
      "source": [
        "sns.set(style=\"whitegrid\", rc={'figure.figsize':(16,8)})\n",
        "ax1 = sns.distplot(fiilis.F6)\n",
        "ax2 = sns.distplot(fiilis.F7)\n",
        "plt.xlabel(\"F6 & F7\")\n",
        "plt.show()"
      ],
      "execution_count": null,
      "outputs": []
    },
    {
      "cell_type": "code",
      "metadata": {
        "id": "d0_0knbmKqNu",
        "colab_type": "code",
        "colab": {}
      },
      "source": [
        "plt.hist([fiilis.F6, fiilis.F7])\n",
        "plt.show()"
      ],
      "execution_count": null,
      "outputs": []
    },
    {
      "cell_type": "code",
      "metadata": {
        "id": "yyS8FA5zWjhT",
        "colab_type": "code",
        "colab": {}
      },
      "source": [
        "sns.pairplot(dat, corner = True)"
      ],
      "execution_count": null,
      "outputs": []
    }
  ]
}